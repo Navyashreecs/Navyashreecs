{
  "nbformat": 4,
  "nbformat_minor": 0,
  "metadata": {
    "colab": {
      "name": "task1.2.ipynb",
      "provenance": [],
      "collapsed_sections": [],
      "authorship_tag": "ABX9TyO2+Bs/y4LROH9J7KPW8N8z",
      "include_colab_link": true
    },
    "kernelspec": {
      "name": "python3",
      "display_name": "Python 3"
    },
    "language_info": {
      "name": "python"
    }
  },
  "cells": [
    {
      "cell_type": "markdown",
      "metadata": {
        "id": "view-in-github",
        "colab_type": "text"
      },
      "source": [
        "<a href=\"https://colab.research.google.com/github/Navyashreecs/Navyashreecs/blob/main/task2.ipynb\" target=\"_parent\"><img src=\"https://colab.research.google.com/assets/colab-badge.svg\" alt=\"Open In Colab\"/></a>"
      ]
    },
    {
      "cell_type": "code",
      "metadata": {
        "colab": {
          "base_uri": "https://localhost:8080/"
        },
        "id": "tsjZoOxKN31J",
        "outputId": "cb83df7f-272e-471a-96cc-8ec96a46234f"
      },
      "source": [
        "#printing info of Chocolate.csv\n",
        "import numpy as np\n",
        "import pandas as pd\n",
        "df=pd.read_csv(\"Chocolate.csv\")\n",
        "print(df)\n"
      ],
      "execution_count": null,
      "outputs": [
        {
          "output_type": "stream",
          "name": "stdout",
          "text": [
            "    index    Brand CoverColor    Fat  ...  Variants  Sugar quantity  price\n",
            "0       0   Nestle        Red  22.40  ...      four  30.00       21   1234\n",
            "1       1  Cadbury     Purple  12.40  ...     three  32.40       21   2345\n",
            "2       2   Nestle        Red  45.60  ...       one  40.50       19   1800\n",
            "3       3  Cadbury     Purple  23.00  ...       six  50.20       24   1700\n",
            "4       4   Nestle        Red  13.00  ...       six  32.50       18   1550\n",
            "5       5  Cadbury     Purple  45.20  ...       six  31.50       27   1359\n",
            "6       6  Cadbury     Purple  23.33  ...      four  43.70       37   1200\n",
            "7       7   Nestle        Red  12.90  ...     three  41.90       26   1530\n",
            "8       8     Amul      Brown  14.50  ...       two  33.34       23   1980\n",
            "9       9   Nestle        Red  22.40  ...       one  21.34       23   1240\n",
            "10     10   Nestle        Red  32.10  ...     three  33.30       41   1290\n",
            "11     11   Nestle        Red  12.70  ...       six  33.90       17   1350\n",
            "12     12     Amul      Brown  11.10  ...      four  43.10       19   1675\n",
            "13     13  Cadbury     Purple  19.50  ...      five  42.10       15   1100\n",
            "14     14     Amul      Brown  17.30  ...       two  45.70       23   1300\n",
            "15     15   Nestle        Red  17.80  ...       one  34.20       26   1500\n",
            "16     16     Amul      Brown  18.50  ...       six  12.50       29   2300\n",
            "17     17  Cadbury     Purple  20.23  ...      five  23.90       31   2450\n",
            "18     18   Nestle        Red  23.15  ...      four  11.50       33   2480\n",
            "19     19   Nestle        Red  40.20  ...       two  22.22       37   4000\n",
            "20     20     Amul      Brown  22.50  ...     three  20.00       21   2345\n",
            "21     21  Cadbury     Purple  16.40  ...     three  18.00       19   3200\n",
            "22     22     Amul      Brown  16.98  ...      five  19.76       17   1278\n",
            "23     23     Amul      Brown  13.60  ...     three  19.54       15   1480\n",
            "24     24   Nestle        Red  19.40  ...       two  21.70       13   2310\n",
            "25     25     Amul      Brown  21.30  ...       six  26.70       12   2450\n",
            "26     26     Amul      Brown  20.00  ...      four  25.40       15   3210\n",
            "27     27  Cadbury     Purple  11.14  ...      five  29.00       21   3620\n",
            "28     28     Amul      Brown   9.50  ...      four  31.60       27   4110\n",
            "29     29   Nestle        Red   5.70  ...      five  31.80       23   3110\n",
            "30     30     Amul      Brown  19.70  ...       two  34.60       32   2320\n",
            "31     31  Cadbury     Purple  18.99  ...     three  37.90       37   2020\n",
            "32     31     Amul      Brown  15.50  ...       six  41.40       21   3010\n",
            "33     33   Nestle        Red  13.70  ...      four  31.20       34   2000\n",
            "34     34     Amul      Brown  14.20  ...       one  22.50       38   1999\n",
            "35     35  Cadbury     Purple  12.10  ...      five  39.00       21   1870\n",
            "36     36     Amul      Brown  15.70  ...       six  40.20       24   3210\n",
            "37     37     Amul      Brown  19.50  ...      five  23.00       31   1450\n",
            "38     38   Nestle        Red  23.40  ...      five  21.50       33   2210\n",
            "39     39   Nestle        Red  25.12  ...     three  25.30       17   2400\n",
            "40     40     Amul      Brown  19.80  ...      four  19.00       19   2100\n",
            "\n",
            "[41 rows x 10 columns]\n"
          ]
        }
      ]
    },
    {
      "cell_type": "code",
      "metadata": {
        "colab": {
          "base_uri": "https://localhost:8080/"
        },
        "id": "nhEhjauRUAHX",
        "outputId": "863fcb8b-feae-453a-ac4b-56dfa6c121c1"
      },
      "source": [
        "#Sorting of chocolates by price\n",
        "df.sort_values([\"price\"],\n",
        "              axis=0,\n",
        "              ascending=[True],\n",
        "              inplace=True)\n",
        "print(df)"
      ],
      "execution_count": null,
      "outputs": [
        {
          "output_type": "stream",
          "name": "stdout",
          "text": [
            "    index    Brand CoverColor    Fat  ...  Variants  Sugar quantity  price\n",
            "13     13  Cadbury     Purple  19.50  ...      five  42.10       15   1100\n",
            "6       6  Cadbury     Purple  23.33  ...      four  43.70       37   1200\n",
            "0       0   Nestle        Red  22.40  ...      four  30.00       21   1234\n",
            "9       9   Nestle        Red  22.40  ...       one  21.34       23   1240\n",
            "22     22     Amul      Brown  16.98  ...      five  19.76       17   1278\n",
            "10     10   Nestle        Red  32.10  ...     three  33.30       41   1290\n",
            "14     14     Amul      Brown  17.30  ...       two  45.70       23   1300\n",
            "11     11   Nestle        Red  12.70  ...       six  33.90       17   1350\n",
            "5       5  Cadbury     Purple  45.20  ...       six  31.50       27   1359\n",
            "37     37     Amul      Brown  19.50  ...      five  23.00       31   1450\n",
            "23     23     Amul      Brown  13.60  ...     three  19.54       15   1480\n",
            "15     15   Nestle        Red  17.80  ...       one  34.20       26   1500\n",
            "7       7   Nestle        Red  12.90  ...     three  41.90       26   1530\n",
            "4       4   Nestle        Red  13.00  ...       six  32.50       18   1550\n",
            "12     12     Amul      Brown  11.10  ...      four  43.10       19   1675\n",
            "3       3  Cadbury     Purple  23.00  ...       six  50.20       24   1700\n",
            "2       2   Nestle        Red  45.60  ...       one  40.50       19   1800\n",
            "35     35  Cadbury     Purple  12.10  ...      five  39.00       21   1870\n",
            "8       8     Amul      Brown  14.50  ...       two  33.34       23   1980\n",
            "34     34     Amul      Brown  14.20  ...       one  22.50       38   1999\n",
            "33     33   Nestle        Red  13.70  ...      four  31.20       34   2000\n",
            "31     31  Cadbury     Purple  18.99  ...     three  37.90       37   2020\n",
            "40     40     Amul      Brown  19.80  ...      four  19.00       19   2100\n",
            "38     38   Nestle        Red  23.40  ...      five  21.50       33   2210\n",
            "16     16     Amul      Brown  18.50  ...       six  12.50       29   2300\n",
            "24     24   Nestle        Red  19.40  ...       two  21.70       13   2310\n",
            "30     30     Amul      Brown  19.70  ...       two  34.60       32   2320\n",
            "20     20     Amul      Brown  22.50  ...     three  20.00       21   2345\n",
            "1       1  Cadbury     Purple  12.40  ...     three  32.40       21   2345\n",
            "39     39   Nestle        Red  25.12  ...     three  25.30       17   2400\n",
            "17     17  Cadbury     Purple  20.23  ...      five  23.90       31   2450\n",
            "25     25     Amul      Brown  21.30  ...       six  26.70       12   2450\n",
            "18     18   Nestle        Red  23.15  ...      four  11.50       33   2480\n",
            "32     31     Amul      Brown  15.50  ...       six  41.40       21   3010\n",
            "29     29   Nestle        Red   5.70  ...      five  31.80       23   3110\n",
            "21     21  Cadbury     Purple  16.40  ...     three  18.00       19   3200\n",
            "36     36     Amul      Brown  15.70  ...       six  40.20       24   3210\n",
            "26     26     Amul      Brown  20.00  ...      four  25.40       15   3210\n",
            "27     27  Cadbury     Purple  11.14  ...      five  29.00       21   3620\n",
            "19     19   Nestle        Red  40.20  ...       two  22.22       37   4000\n",
            "28     28     Amul      Brown   9.50  ...      four  31.60       27   4110\n",
            "\n",
            "[41 rows x 10 columns]\n"
          ]
        }
      ]
    },
    {
      "cell_type": "code",
      "metadata": {
        "colab": {
          "base_uri": "https://localhost:8080/"
        },
        "id": "ZNzTblQSU4Dn",
        "outputId": "92aecaea-20e9-4c51-a69f-f91beccd4aa2"
      },
      "source": [
        "#print the top 5 and last 5 rows\n",
        "print(df.head(5),\n",
        "      df.tail(5))"
      ],
      "execution_count": null,
      "outputs": [
        {
          "output_type": "stream",
          "name": "stdout",
          "text": [
            "    index    Brand CoverColor    Fat  ...  Variants  Sugar quantity  price\n",
            "13     13  Cadbury     Purple  19.50  ...      five  42.10       15   1100\n",
            "6       6  Cadbury     Purple  23.33  ...      four  43.70       37   1200\n",
            "0       0   Nestle        Red  22.40  ...      four  30.00       21   1234\n",
            "9       9   Nestle        Red  22.40  ...       one  21.34       23   1240\n",
            "22     22     Amul      Brown  16.98  ...      five  19.76       17   1278\n",
            "\n",
            "[5 rows x 10 columns]     index    Brand CoverColor    Fat  ...  Variants  Sugar quantity  price\n",
            "36     36     Amul      Brown  15.70  ...       six  40.20       24   3210\n",
            "26     26     Amul      Brown  20.00  ...      four  25.40       15   3210\n",
            "27     27  Cadbury     Purple  11.14  ...      five  29.00       21   3620\n",
            "19     19   Nestle        Red  40.20  ...       two  22.22       37   4000\n",
            "28     28     Amul      Brown   9.50  ...      four  31.60       27   4110\n",
            "\n",
            "[5 rows x 10 columns]\n"
          ]
        }
      ]
    },
    {
      "cell_type": "code",
      "metadata": {
        "colab": {
          "base_uri": "https://localhost:8080/"
        },
        "id": "XZHTanzmVWpM",
        "outputId": "aeae3b7b-16d8-4a33-f364-14391a40d857"
      },
      "source": [
        "#print the brand,price,type,quantity of expensive choclates\n",
        "z=df[df[\"price\"]==df[\"price\"].max()]\n",
        "df_100=pd.DataFrame(z)\n",
        "print(df_100[['Brand','price','type','quantity']])"
      ],
      "execution_count": null,
      "outputs": [
        {
          "output_type": "stream",
          "name": "stdout",
          "text": [
            "   Brand  price   type  quantity\n",
            "28  Amul   4110  White        27\n"
          ]
        }
      ]
    },
    {
      "cell_type": "code",
      "metadata": {
        "colab": {
          "base_uri": "https://localhost:8080/"
        },
        "id": "vIpu-p1mWW-I",
        "outputId": "9ec9a9b4-df82-4fc4-f047-feb28e915925"
      },
      "source": [
        "#print details of cadbury choc\n",
        "print(df[df['Brand']=='Cadbury'])"
      ],
      "execution_count": null,
      "outputs": [
        {
          "output_type": "stream",
          "name": "stdout",
          "text": [
            "    index    Brand CoverColor    Fat  ...  Variants Sugar quantity  price\n",
            "13     13  Cadbury     Purple  19.50  ...      five  42.1       15   1100\n",
            "6       6  Cadbury     Purple  23.33  ...      four  43.7       37   1200\n",
            "5       5  Cadbury     Purple  45.20  ...       six  31.5       27   1359\n",
            "3       3  Cadbury     Purple  23.00  ...       six  50.2       24   1700\n",
            "35     35  Cadbury     Purple  12.10  ...      five  39.0       21   1870\n",
            "31     31  Cadbury     Purple  18.99  ...     three  37.9       37   2020\n",
            "1       1  Cadbury     Purple  12.40  ...     three  32.4       21   2345\n",
            "17     17  Cadbury     Purple  20.23  ...      five  23.9       31   2450\n",
            "21     21  Cadbury     Purple  16.40  ...     three  18.0       19   3200\n",
            "27     27  Cadbury     Purple  11.14  ...      five  29.0       21   3620\n",
            "\n",
            "[10 rows x 10 columns]\n"
          ]
        }
      ]
    },
    {
      "cell_type": "code",
      "metadata": {
        "colab": {
          "base_uri": "https://localhost:8080/"
        },
        "id": "sdBnWAxWWtZU",
        "outputId": "b0c5ec58-dfb6-4935-d467-92559d980799"
      },
      "source": [
        "#Counting num of choc of each brand\n",
        "x=df['Brand'].value_counts()\n",
        "print(x)\n",
        "print(x.max())\n"
      ],
      "execution_count": null,
      "outputs": [
        {
          "output_type": "stream",
          "name": "stdout",
          "text": [
            "Amul       16\n",
            "Nestle     15\n",
            "Cadbury    10\n",
            "Name: Brand, dtype: int64\n",
            "16\n"
          ]
        }
      ]
    },
    {
      "cell_type": "code",
      "metadata": {
        "colab": {
          "base_uri": "https://localhost:8080/"
        },
        "id": "vOztkmMlX1Uv",
        "outputId": "10da28b2-57c2-43d9-e380-54d16edd1a15"
      },
      "source": [
        "#Finding the expensive chocolate under each brand.\n",
        "val=df.groupby(\"Brand\")\n",
        "print(val['price'].max())"
      ],
      "execution_count": null,
      "outputs": [
        {
          "output_type": "stream",
          "name": "stdout",
          "text": [
            "Brand\n",
            "Amul       4110\n",
            "Cadbury    3620\n",
            "Nestle     4000\n",
            "Name: price, dtype: int64\n"
          ]
        }
      ]
    },
    {
      "cell_type": "code",
      "metadata": {
        "colab": {
          "base_uri": "https://localhost:8080/"
        },
        "id": "10Th94tgZePb",
        "outputId": "81ce0900-c8b0-4f59-9eff-f95f95251c07"
      },
      "source": [
        "#Avg quantity of each brand\n",
        "val=df.groupby(\"Brand\")\n",
        "print(val['quantity'].mean())"
      ],
      "execution_count": null,
      "outputs": [
        {
          "output_type": "stream",
          "name": "stdout",
          "text": [
            "Brand\n",
            "Amul       22.875\n",
            "Cadbury    25.300\n",
            "Nestle     25.400\n",
            "Name: quantity, dtype: float64\n"
          ]
        }
      ]
    },
    {
      "cell_type": "code",
      "metadata": {
        "colab": {
          "base_uri": "https://localhost:8080/"
        },
        "id": "-8OVX70faG_-",
        "outputId": "59140f8c-ecd4-4f01-80f6-0af7b7455cd3"
      },
      "source": [
        "import numpy as np\n",
        "import pandas as pd\n",
        "df3=pd.read_csv(\"admissions.csv\")\n",
        "print(df3)"
      ],
      "execution_count": null,
      "outputs": [
        {
          "output_type": "stream",
          "name": "stdout",
          "text": [
            "         Name  ID_Number  ... AmountToBePaid  AmountPaid\n",
            "0       Davis       1001  ...          10000      5000.0\n",
            "1      Srijan       1002  ...          10000      3000.0\n",
            "2      Ishita       1003  ...           8000      2000.0\n",
            "3      Ananya       1004  ...          10000         NaN\n",
            "4      Namish       1005  ...          15000      8000.0\n",
            "5       Rohan       1006  ...          10000     10000.0\n",
            "6     Mithali       1007  ...          12000      8000.0\n",
            "7     Shirley       1008  ...           8000      4500.0\n",
            "8     Madilyn       1009  ...          15000      5500.0\n",
            "9     Lavanya       1010  ...           8000      7500.0\n",
            "10  Priyanshu       1011  ...          10000         NaN\n",
            "11   Vanshika       1012  ...          12000     12000.0\n",
            "12     Dhrish       1013  ...          10000      4000.0\n",
            "13        Dia       1014  ...           8000      5000.0\n",
            "14     Khushi       1015  ...           8000      8000.0\n",
            "15      Navya       1016  ...           8000      4550.0\n",
            "16     Preeti       1017  ...          15000     10000.0\n",
            "17      Sanav       1018  ...          10000         NaN\n",
            "18      Sanvi       1019  ...          12000      9000.0\n",
            "19      Jatin       1020  ...          12000      9800.0\n",
            "\n",
            "[20 rows x 9 columns]\n"
          ]
        }
      ]
    },
    {
      "cell_type": "code",
      "metadata": {
        "colab": {
          "base_uri": "https://localhost:8080/"
        },
        "id": "6OIRWEUVarAq",
        "outputId": "feae72e2-a4a6-487f-d53d-cef7b345004d"
      },
      "source": [
        "#read the file admission & print top 5 rows\n",
        "print(df3.head(5))"
      ],
      "execution_count": null,
      "outputs": [
        {
          "output_type": "stream",
          "name": "stdout",
          "text": [
            "     Name  ID_Number   Place  ...  CourseEnrolled AmountToBePaid AmountPaid\n",
            "0   Davis       1001     UAE  ...              Py          10000     5000.0\n",
            "1  Srijan       1002   India  ...              Py          10000     3000.0\n",
            "2  Ishita       1003   India  ...              WD           8000     2000.0\n",
            "3  Ananya       1004  Europe  ...              Py          10000        NaN\n",
            "4  Namish       1005     USA  ...              AI          15000     8000.0\n",
            "\n",
            "[5 rows x 9 columns]\n"
          ]
        }
      ]
    },
    {
      "cell_type": "code",
      "metadata": {
        "colab": {
          "base_uri": "https://localhost:8080/"
        },
        "id": "nMk9YarxbQbA",
        "outputId": "fd488f48-37ea-4c55-9947-707b6ae1a9fc"
      },
      "source": [
        "#array of the given values & add a GENDER column to dataframe\n",
        "gender=np.array(['M','M','F','F','M','M','F','F','F','F','M','F','M','F','F','F','F','M','F','M'])\n",
        "df6=pd.DataFrame()\n",
        "df6['gender']=gender\n",
        "print(df6)"
      ],
      "execution_count": null,
      "outputs": [
        {
          "output_type": "stream",
          "name": "stdout",
          "text": [
            "   gender\n",
            "0       M\n",
            "1       M\n",
            "2       F\n",
            "3       F\n",
            "4       M\n",
            "5       M\n",
            "6       F\n",
            "7       F\n",
            "8       F\n",
            "9       F\n",
            "10      M\n",
            "11      F\n",
            "12      M\n",
            "13      F\n",
            "14      F\n",
            "15      F\n",
            "16      F\n",
            "17      M\n",
            "18      F\n",
            "19      M\n"
          ]
        }
      ]
    },
    {
      "cell_type": "code",
      "metadata": {
        "colab": {
          "base_uri": "https://localhost:8080/"
        },
        "id": "FvCcbElcd5-t",
        "outputId": "1b974e10-d858-43ec-d3eb-af32a58b48bc"
      },
      "source": [
        "#check if there is null values \n",
        "df6=df3['AmountPaid']\n",
        "df6.isnull().sum()"
      ],
      "execution_count": null,
      "outputs": [
        {
          "output_type": "execute_result",
          "data": {
            "text/plain": [
              "3"
            ]
          },
          "metadata": {},
          "execution_count": 71
        }
      ]
    },
    {
      "cell_type": "code",
      "metadata": {
        "colab": {
          "base_uri": "https://localhost:8080/",
          "height": 675
        },
        "id": "kZFJnr16yHK8",
        "outputId": "be87b2b1-eca3-4e2b-d658-e026389ec8d3"
      },
      "source": [
        "#Replacing null values by zero\n",
        "df3['AmountPaid'].fillna(0,inplace=True)\n",
        "df3"
      ],
      "execution_count": null,
      "outputs": [
        {
          "output_type": "execute_result",
          "data": {
            "text/html": [
              "<div>\n",
              "<style scoped>\n",
              "    .dataframe tbody tr th:only-of-type {\n",
              "        vertical-align: middle;\n",
              "    }\n",
              "\n",
              "    .dataframe tbody tr th {\n",
              "        vertical-align: top;\n",
              "    }\n",
              "\n",
              "    .dataframe thead th {\n",
              "        text-align: right;\n",
              "    }\n",
              "</style>\n",
              "<table border=\"1\" class=\"dataframe\">\n",
              "  <thead>\n",
              "    <tr style=\"text-align: right;\">\n",
              "      <th></th>\n",
              "      <th>Name</th>\n",
              "      <th>ID_Number</th>\n",
              "      <th>Place</th>\n",
              "      <th>Age</th>\n",
              "      <th>Highest Qualification</th>\n",
              "      <th>IDProof_Status</th>\n",
              "      <th>CourseEnrolled</th>\n",
              "      <th>AmountToBePaid</th>\n",
              "      <th>AmountPaid</th>\n",
              "    </tr>\n",
              "  </thead>\n",
              "  <tbody>\n",
              "    <tr>\n",
              "      <th>0</th>\n",
              "      <td>Davis</td>\n",
              "      <td>1001</td>\n",
              "      <td>UAE</td>\n",
              "      <td>21.0</td>\n",
              "      <td>BCA</td>\n",
              "      <td>S</td>\n",
              "      <td>Py</td>\n",
              "      <td>10000</td>\n",
              "      <td>5000.0</td>\n",
              "    </tr>\n",
              "    <tr>\n",
              "      <th>1</th>\n",
              "      <td>Srijan</td>\n",
              "      <td>1002</td>\n",
              "      <td>India</td>\n",
              "      <td>21.0</td>\n",
              "      <td>Btech</td>\n",
              "      <td>NS</td>\n",
              "      <td>Py</td>\n",
              "      <td>10000</td>\n",
              "      <td>3000.0</td>\n",
              "    </tr>\n",
              "    <tr>\n",
              "      <th>2</th>\n",
              "      <td>Ishita</td>\n",
              "      <td>1003</td>\n",
              "      <td>India</td>\n",
              "      <td>23.0</td>\n",
              "      <td>Mtech</td>\n",
              "      <td>S</td>\n",
              "      <td>WD</td>\n",
              "      <td>8000</td>\n",
              "      <td>2000.0</td>\n",
              "    </tr>\n",
              "    <tr>\n",
              "      <th>3</th>\n",
              "      <td>Ananya</td>\n",
              "      <td>1004</td>\n",
              "      <td>Europe</td>\n",
              "      <td>20.0</td>\n",
              "      <td>Btech</td>\n",
              "      <td>S</td>\n",
              "      <td>Py</td>\n",
              "      <td>10000</td>\n",
              "      <td>0.0</td>\n",
              "    </tr>\n",
              "    <tr>\n",
              "      <th>4</th>\n",
              "      <td>Namish</td>\n",
              "      <td>1005</td>\n",
              "      <td>USA</td>\n",
              "      <td>24.0</td>\n",
              "      <td>MCA</td>\n",
              "      <td>S</td>\n",
              "      <td>AI</td>\n",
              "      <td>15000</td>\n",
              "      <td>8000.0</td>\n",
              "    </tr>\n",
              "    <tr>\n",
              "      <th>5</th>\n",
              "      <td>Rohan</td>\n",
              "      <td>1006</td>\n",
              "      <td>Europe</td>\n",
              "      <td>20.0</td>\n",
              "      <td>BCA</td>\n",
              "      <td>S</td>\n",
              "      <td>Py</td>\n",
              "      <td>10000</td>\n",
              "      <td>10000.0</td>\n",
              "    </tr>\n",
              "    <tr>\n",
              "      <th>6</th>\n",
              "      <td>Mithali</td>\n",
              "      <td>1007</td>\n",
              "      <td>Europe</td>\n",
              "      <td>NaN</td>\n",
              "      <td>Btech</td>\n",
              "      <td>NS</td>\n",
              "      <td>IOT</td>\n",
              "      <td>12000</td>\n",
              "      <td>8000.0</td>\n",
              "    </tr>\n",
              "    <tr>\n",
              "      <th>7</th>\n",
              "      <td>Shirley</td>\n",
              "      <td>1008</td>\n",
              "      <td>Australia</td>\n",
              "      <td>24.0</td>\n",
              "      <td>MS</td>\n",
              "      <td>NS</td>\n",
              "      <td>WD</td>\n",
              "      <td>8000</td>\n",
              "      <td>4500.0</td>\n",
              "    </tr>\n",
              "    <tr>\n",
              "      <th>8</th>\n",
              "      <td>Madilyn</td>\n",
              "      <td>1009</td>\n",
              "      <td>USA</td>\n",
              "      <td>NaN</td>\n",
              "      <td>MCA</td>\n",
              "      <td>S</td>\n",
              "      <td>AI</td>\n",
              "      <td>15000</td>\n",
              "      <td>5500.0</td>\n",
              "    </tr>\n",
              "    <tr>\n",
              "      <th>9</th>\n",
              "      <td>Lavanya</td>\n",
              "      <td>1010</td>\n",
              "      <td>Phillipines</td>\n",
              "      <td>26.0</td>\n",
              "      <td>MS</td>\n",
              "      <td>S</td>\n",
              "      <td>WD</td>\n",
              "      <td>8000</td>\n",
              "      <td>7500.0</td>\n",
              "    </tr>\n",
              "    <tr>\n",
              "      <th>10</th>\n",
              "      <td>Priyanshu</td>\n",
              "      <td>1011</td>\n",
              "      <td>Phillipines</td>\n",
              "      <td>24.0</td>\n",
              "      <td>Mtech</td>\n",
              "      <td>S</td>\n",
              "      <td>Py</td>\n",
              "      <td>10000</td>\n",
              "      <td>0.0</td>\n",
              "    </tr>\n",
              "    <tr>\n",
              "      <th>11</th>\n",
              "      <td>Vanshika</td>\n",
              "      <td>1012</td>\n",
              "      <td>UAE</td>\n",
              "      <td>22.0</td>\n",
              "      <td>BCA</td>\n",
              "      <td>NS</td>\n",
              "      <td>IOT</td>\n",
              "      <td>12000</td>\n",
              "      <td>12000.0</td>\n",
              "    </tr>\n",
              "    <tr>\n",
              "      <th>12</th>\n",
              "      <td>Dhrish</td>\n",
              "      <td>1013</td>\n",
              "      <td>Australia</td>\n",
              "      <td>21.0</td>\n",
              "      <td>BCA</td>\n",
              "      <td>NaN</td>\n",
              "      <td>Py</td>\n",
              "      <td>10000</td>\n",
              "      <td>4000.0</td>\n",
              "    </tr>\n",
              "    <tr>\n",
              "      <th>13</th>\n",
              "      <td>Dia</td>\n",
              "      <td>1014</td>\n",
              "      <td>Australia</td>\n",
              "      <td>NaN</td>\n",
              "      <td>BCA</td>\n",
              "      <td>NS</td>\n",
              "      <td>WD</td>\n",
              "      <td>8000</td>\n",
              "      <td>5000.0</td>\n",
              "    </tr>\n",
              "    <tr>\n",
              "      <th>14</th>\n",
              "      <td>Khushi</td>\n",
              "      <td>1015</td>\n",
              "      <td>Europe</td>\n",
              "      <td>23.0</td>\n",
              "      <td>MCA</td>\n",
              "      <td>S</td>\n",
              "      <td>WD</td>\n",
              "      <td>8000</td>\n",
              "      <td>8000.0</td>\n",
              "    </tr>\n",
              "    <tr>\n",
              "      <th>15</th>\n",
              "      <td>Navya</td>\n",
              "      <td>1016</td>\n",
              "      <td>USA</td>\n",
              "      <td>26.0</td>\n",
              "      <td>Mtech</td>\n",
              "      <td>S</td>\n",
              "      <td>WD</td>\n",
              "      <td>8000</td>\n",
              "      <td>4550.0</td>\n",
              "    </tr>\n",
              "    <tr>\n",
              "      <th>16</th>\n",
              "      <td>Preeti</td>\n",
              "      <td>1017</td>\n",
              "      <td>Phillipines</td>\n",
              "      <td>24.0</td>\n",
              "      <td>MS</td>\n",
              "      <td>NS</td>\n",
              "      <td>AI</td>\n",
              "      <td>15000</td>\n",
              "      <td>10000.0</td>\n",
              "    </tr>\n",
              "    <tr>\n",
              "      <th>17</th>\n",
              "      <td>Sanav</td>\n",
              "      <td>1018</td>\n",
              "      <td>India</td>\n",
              "      <td>NaN</td>\n",
              "      <td>Btech</td>\n",
              "      <td>S</td>\n",
              "      <td>Py</td>\n",
              "      <td>10000</td>\n",
              "      <td>0.0</td>\n",
              "    </tr>\n",
              "    <tr>\n",
              "      <th>18</th>\n",
              "      <td>Sanvi</td>\n",
              "      <td>1019</td>\n",
              "      <td>India</td>\n",
              "      <td>25.0</td>\n",
              "      <td>Mtech</td>\n",
              "      <td>NS</td>\n",
              "      <td>IOT</td>\n",
              "      <td>12000</td>\n",
              "      <td>9000.0</td>\n",
              "    </tr>\n",
              "    <tr>\n",
              "      <th>19</th>\n",
              "      <td>Jatin</td>\n",
              "      <td>1020</td>\n",
              "      <td>UAE</td>\n",
              "      <td>NaN</td>\n",
              "      <td>MS</td>\n",
              "      <td>NS</td>\n",
              "      <td>IOT</td>\n",
              "      <td>12000</td>\n",
              "      <td>9800.0</td>\n",
              "    </tr>\n",
              "  </tbody>\n",
              "</table>\n",
              "</div>"
            ],
            "text/plain": [
              "         Name  ID_Number  ... AmountToBePaid  AmountPaid\n",
              "0       Davis       1001  ...          10000      5000.0\n",
              "1      Srijan       1002  ...          10000      3000.0\n",
              "2      Ishita       1003  ...           8000      2000.0\n",
              "3      Ananya       1004  ...          10000         0.0\n",
              "4      Namish       1005  ...          15000      8000.0\n",
              "5       Rohan       1006  ...          10000     10000.0\n",
              "6     Mithali       1007  ...          12000      8000.0\n",
              "7     Shirley       1008  ...           8000      4500.0\n",
              "8     Madilyn       1009  ...          15000      5500.0\n",
              "9     Lavanya       1010  ...           8000      7500.0\n",
              "10  Priyanshu       1011  ...          10000         0.0\n",
              "11   Vanshika       1012  ...          12000     12000.0\n",
              "12     Dhrish       1013  ...          10000      4000.0\n",
              "13        Dia       1014  ...           8000      5000.0\n",
              "14     Khushi       1015  ...           8000      8000.0\n",
              "15      Navya       1016  ...           8000      4550.0\n",
              "16     Preeti       1017  ...          15000     10000.0\n",
              "17      Sanav       1018  ...          10000         0.0\n",
              "18      Sanvi       1019  ...          12000      9000.0\n",
              "19      Jatin       1020  ...          12000      9800.0\n",
              "\n",
              "[20 rows x 9 columns]"
            ]
          },
          "metadata": {},
          "execution_count": 72
        }
      ]
    },
    {
      "cell_type": "code",
      "metadata": {
        "colab": {
          "base_uri": "https://localhost:8080/"
        },
        "id": "gidInqVWyoL_",
        "outputId": "61dc5ec5-2861-4209-daf8-bf22a05ca904"
      },
      "source": [
        "#'AmountBalance' column which has to pay\n",
        "df3['AmountBalance']=df3['AmountToBePaid'].sub(df3['AmountPaid'],axis=0)\n",
        "print(df3)"
      ],
      "execution_count": null,
      "outputs": [
        {
          "output_type": "stream",
          "name": "stdout",
          "text": [
            "         Name  ID_Number  ... AmountPaid  AmountBalance\n",
            "0       Davis       1001  ...     5000.0         5000.0\n",
            "1      Srijan       1002  ...     3000.0         7000.0\n",
            "2      Ishita       1003  ...     2000.0         6000.0\n",
            "3      Ananya       1004  ...        0.0        10000.0\n",
            "4      Namish       1005  ...     8000.0         7000.0\n",
            "5       Rohan       1006  ...    10000.0            0.0\n",
            "6     Mithali       1007  ...     8000.0         4000.0\n",
            "7     Shirley       1008  ...     4500.0         3500.0\n",
            "8     Madilyn       1009  ...     5500.0         9500.0\n",
            "9     Lavanya       1010  ...     7500.0          500.0\n",
            "10  Priyanshu       1011  ...        0.0        10000.0\n",
            "11   Vanshika       1012  ...    12000.0            0.0\n",
            "12     Dhrish       1013  ...     4000.0         6000.0\n",
            "13        Dia       1014  ...     5000.0         3000.0\n",
            "14     Khushi       1015  ...     8000.0            0.0\n",
            "15      Navya       1016  ...     4550.0         3450.0\n",
            "16     Preeti       1017  ...    10000.0         5000.0\n",
            "17      Sanav       1018  ...        0.0        10000.0\n",
            "18      Sanvi       1019  ...     9000.0         3000.0\n",
            "19      Jatin       1020  ...     9800.0         2200.0\n",
            "\n",
            "[20 rows x 10 columns]\n"
          ]
        }
      ]
    },
    {
      "cell_type": "code",
      "metadata": {
        "colab": {
          "base_uri": "https://localhost:8080/"
        },
        "id": "rE2pJ7ahzY2w",
        "outputId": "7824e73f-7458-45a4-b183-6b671605b7f4"
      },
      "source": [
        "#Sorting of df's columns in descending order\n",
        "df3.sort_values(['Name'],axis=0,ascending=False,inplace=True)\n",
        "print(df3)"
      ],
      "execution_count": null,
      "outputs": [
        {
          "output_type": "stream",
          "name": "stdout",
          "text": [
            "         Name  ID_Number  ... AmountPaid  AmountBalance\n",
            "11   Vanshika       1012  ...    12000.0            0.0\n",
            "1      Srijan       1002  ...     3000.0         7000.0\n",
            "7     Shirley       1008  ...     4500.0         3500.0\n",
            "18      Sanvi       1019  ...     9000.0         3000.0\n",
            "17      Sanav       1018  ...        0.0        10000.0\n",
            "5       Rohan       1006  ...    10000.0            0.0\n",
            "10  Priyanshu       1011  ...        0.0        10000.0\n",
            "16     Preeti       1017  ...    10000.0         5000.0\n",
            "15      Navya       1016  ...     4550.0         3450.0\n",
            "4      Namish       1005  ...     8000.0         7000.0\n",
            "6     Mithali       1007  ...     8000.0         4000.0\n",
            "8     Madilyn       1009  ...     5500.0         9500.0\n",
            "9     Lavanya       1010  ...     7500.0          500.0\n",
            "14     Khushi       1015  ...     8000.0            0.0\n",
            "19      Jatin       1020  ...     9800.0         2200.0\n",
            "2      Ishita       1003  ...     2000.0         6000.0\n",
            "13        Dia       1014  ...     5000.0         3000.0\n",
            "12     Dhrish       1013  ...     4000.0         6000.0\n",
            "0       Davis       1001  ...     5000.0         5000.0\n",
            "3      Ananya       1004  ...        0.0        10000.0\n",
            "\n",
            "[20 rows x 10 columns]\n"
          ]
        }
      ]
    },
    {
      "cell_type": "code",
      "metadata": {
        "colab": {
          "base_uri": "https://localhost:8080/",
          "height": 456
        },
        "id": "g3yUgplOz8dH",
        "outputId": "2758b8cf-56e3-49d3-fe3a-751d432764ff"
      },
      "source": [
        "#Count of students who have enrolled for each course\n",
        "import seaborn\n",
        "import matplotlib.pyplot as plt\n",
        "fig=plt.figure(figsize=(20,30))\n",
        "df3['COUNT']=df3.groupby('CourseEnrolled')['CourseEnrolled'].transform('count')\n",
        "print(df3)\n"
      ],
      "execution_count": null,
      "outputs": [
        {
          "output_type": "stream",
          "name": "stdout",
          "text": [
            "         Name  ID_Number        Place  ...  AmountPaid AmountBalance COUNT\n",
            "11   Vanshika       1012          UAE  ...     12000.0           0.0     4\n",
            "1      Srijan       1002        India  ...      3000.0        7000.0     7\n",
            "7     Shirley       1008    Australia  ...      4500.0        3500.0     6\n",
            "18      Sanvi       1019        India  ...      9000.0        3000.0     4\n",
            "17      Sanav       1018        India  ...         0.0       10000.0     7\n",
            "5       Rohan       1006       Europe  ...     10000.0           0.0     7\n",
            "10  Priyanshu       1011  Phillipines  ...         0.0       10000.0     7\n",
            "16     Preeti       1017  Phillipines  ...     10000.0        5000.0     3\n",
            "15      Navya       1016          USA  ...      4550.0        3450.0     6\n",
            "4      Namish       1005          USA  ...      8000.0        7000.0     3\n",
            "6     Mithali       1007       Europe  ...      8000.0        4000.0     4\n",
            "8     Madilyn       1009          USA  ...      5500.0        9500.0     3\n",
            "9     Lavanya       1010  Phillipines  ...      7500.0         500.0     6\n",
            "14     Khushi       1015       Europe  ...      8000.0           0.0     6\n",
            "19      Jatin       1020          UAE  ...      9800.0        2200.0     4\n",
            "2      Ishita       1003        India  ...      2000.0        6000.0     6\n",
            "13        Dia       1014    Australia  ...      5000.0        3000.0     6\n",
            "12     Dhrish       1013    Australia  ...      4000.0        6000.0     7\n",
            "0       Davis       1001          UAE  ...      5000.0        5000.0     7\n",
            "3      Ananya       1004       Europe  ...         0.0       10000.0     7\n",
            "\n",
            "[20 rows x 11 columns]\n"
          ]
        },
        {
          "output_type": "display_data",
          "data": {
            "text/plain": [
              "<Figure size 1440x2160 with 0 Axes>"
            ]
          },
          "metadata": {}
        }
      ]
    }
  ]
}