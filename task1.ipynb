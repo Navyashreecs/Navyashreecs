{
  "nbformat": 4,
  "nbformat_minor": 0,
  "metadata": {
    "colab": {
      "name": "task-1.1.ipynb",
      "provenance": [],
      "collapsed_sections": [],
      "authorship_tag": "ABX9TyNZDoXXi7s5SF57sSvozgl8",
      "include_colab_link": true
    },
    "kernelspec": {
      "name": "python3",
      "display_name": "Python 3"
    },
    "language_info": {
      "name": "python"
    }
  },
  "cells": [
    {
      "cell_type": "markdown",
      "metadata": {
        "id": "view-in-github",
        "colab_type": "text"
      },
      "source": [
        "<a href=\"https://colab.research.google.com/github/Navyashreecs/Navyashreecs/blob/main/task1.ipynb\" target=\"_parent\"><img src=\"https://colab.research.google.com/assets/colab-badge.svg\" alt=\"Open In Colab\"/></a>"
      ]
    },
    {
      "cell_type": "code",
      "metadata": {
        "colab": {
          "base_uri": "https://localhost:8080/"
        },
        "id": "IPPMaAllAHAH",
        "outputId": "f48ac9b8-491c-47bd-f833-d79aaa14171e"
      },
      "source": [
        "#1.Create 3*3 numpy array with any1 boolean values..........1)\n",
        "import numpy as np\n",
        "x=np.array([[7,8,9],[6,5,4],[3,2,1]])\n",
        "print(x>10)                         #print as false\n",
        "print(x>0)                          #print as true\n",
        "\n",
        "\n"
      ],
      "execution_count": null,
      "outputs": [
        {
          "output_type": "stream",
          "name": "stdout",
          "text": [
            "[[False False False]\n",
            " [False False False]\n",
            " [False False False]]\n",
            "[[ True  True  True]\n",
            " [ True  True  True]\n",
            " [ True  True  True]]\n"
          ]
        }
      ]
    },
    {
      "cell_type": "code",
      "metadata": {
        "colab": {
          "base_uri": "https://localhost:8080/"
        },
        "id": "wAZYSvBuBmPe",
        "outputId": "cda3637f-88e8-4132-a052-94a248d493dc"
      },
      "source": [
        "#2.Create 3*3 matrix with values ranging from 0-8................2)\n",
        "arr_01=np.arange(0,9).reshape(3,3)\n",
        "print(arr_01)"
      ],
      "execution_count": null,
      "outputs": [
        {
          "output_type": "stream",
          "name": "stdout",
          "text": [
            "[[0 1 2]\n",
            " [3 4 5]\n",
            " [6 7 8]]\n"
          ]
        }
      ]
    },
    {
      "cell_type": "code",
      "metadata": {
        "colab": {
          "base_uri": "https://localhost:8080/"
        },
        "id": "dOtw4NxLCVDw",
        "outputId": "c91e4787-3efe-4400-c1e8-0e3105fd2abb"
      },
      "source": [
        "#3.Create 5*2 integer array from range b/w 100-200,d/f b/w each element is 10..............3)\n",
        "array_03=np.arange(100,200,10).reshape(5,2)\n",
        "print(array_03)"
      ],
      "execution_count": null,
      "outputs": [
        {
          "output_type": "stream",
          "name": "stdout",
          "text": [
            "[[100 110]\n",
            " [120 130]\n",
            " [140 150]\n",
            " [160 170]\n",
            " [180 190]]\n"
          ]
        }
      ]
    },
    {
      "cell_type": "code",
      "metadata": {
        "colab": {
          "base_uri": "https://localhost:8080/"
        },
        "id": "BgQqybyIDKFn",
        "outputId": "dbe9aa2e-88bd-41f5-fb67-88fb0d996272"
      },
      "source": [
        "#4.Return array of items in 3rd column from all rows.............4)\n",
        "array_100=np.array([[11,22,33],[44,55,66],[77,88,99]])\n",
        "print(array_100[:,2])"
      ],
      "execution_count": null,
      "outputs": [
        {
          "output_type": "stream",
          "name": "stdout",
          "text": [
            "[33 66 99]\n"
          ]
        }
      ]
    },
    {
      "cell_type": "code",
      "metadata": {
        "colab": {
          "base_uri": "https://localhost:8080/"
        },
        "id": "TrFMtwO7EE7b",
        "outputId": "ddf0b2eb-3f9f-48ec-b2d2-315207c5fcb8"
      },
      "source": [
        "#5.Return array of odd rows and even columns.................5)\n",
        "arr_02=np.array([[3,6,9,12],[15,18,21,24],[27,30,33,36],[39,42,45,48],[51,54,57,60]])\n",
        "print(arr_02[::2,1::2])"
      ],
      "execution_count": null,
      "outputs": [
        {
          "output_type": "stream",
          "name": "stdout",
          "text": [
            "[[ 6 12]\n",
            " [30 36]\n",
            " [54 60]]\n"
          ]
        }
      ]
    },
    {
      "cell_type": "code",
      "metadata": {
        "colab": {
          "base_uri": "https://localhost:8080/"
        },
        "id": "LY-stVITFbjH",
        "outputId": "3a176acc-bda8-49e3-eb5b-36d8c26c2ae4"
      },
      "source": [
        "#7.Create array as same as below and print the dimension.................6)\n",
        "array_90=np.array([[['Try','to'],['Create','me']],[['and','also'],['guess my','dimension']]])\n",
        "print(array_90)\n",
        "print(array_90.ndim)"
      ],
      "execution_count": null,
      "outputs": [
        {
          "output_type": "stream",
          "name": "stdout",
          "text": [
            "[[['Try' 'to']\n",
            "  ['Create' 'me']]\n",
            "\n",
            " [['and' 'also']\n",
            "  ['guess my' 'dimension']]]\n",
            "3\n"
          ]
        }
      ]
    },
    {
      "cell_type": "code",
      "metadata": {
        "colab": {
          "base_uri": "https://localhost:8080/"
        },
        "id": "a3dhUuLwIdHI",
        "outputId": "247a537a-60ca-44a8-ba81-2ac05a894613"
      },
      "source": [
        "#8.Slicing of array by taking 7th question as hint\n",
        "print(array_90[0,0,0],array_90[1,0,0])\n"
      ],
      "execution_count": null,
      "outputs": [
        {
          "output_type": "stream",
          "name": "stdout",
          "text": [
            "Try and\n"
          ]
        }
      ]
    },
    {
      "cell_type": "code",
      "metadata": {
        "colab": {
          "base_uri": "https://localhost:8080/"
        },
        "id": "S5TtRxBxJoQ2",
        "outputId": "ca71b3ce-59ed-42c0-9414-3720f43cb687"
      },
      "source": [
        "#9.Creating the array and finding it's dim.....................7)\n",
        "arr_00=np.array([[[[2],[4]],[[6],[8]],[[10],[12]]],[[[14],[16]],[[18],[20]],[[22],[24]]],[[[1],[3]],[[5],[7]],[[9],[11]]],[[[13],[15]],[[17],[19]],[[21],[23]]]])\n",
        "print(arr_00)\n",
        "print(arr_00.ndim)"
      ],
      "execution_count": null,
      "outputs": [
        {
          "output_type": "stream",
          "name": "stdout",
          "text": [
            "[[[[ 2]\n",
            "   [ 4]]\n",
            "\n",
            "  [[ 6]\n",
            "   [ 8]]\n",
            "\n",
            "  [[10]\n",
            "   [12]]]\n",
            "\n",
            "\n",
            " [[[14]\n",
            "   [16]]\n",
            "\n",
            "  [[18]\n",
            "   [20]]\n",
            "\n",
            "  [[22]\n",
            "   [24]]]\n",
            "\n",
            "\n",
            " [[[ 1]\n",
            "   [ 3]]\n",
            "\n",
            "  [[ 5]\n",
            "   [ 7]]\n",
            "\n",
            "  [[ 9]\n",
            "   [11]]]\n",
            "\n",
            "\n",
            " [[[13]\n",
            "   [15]]\n",
            "\n",
            "  [[17]\n",
            "   [19]]\n",
            "\n",
            "  [[21]\n",
            "   [23]]]]\n",
            "4\n"
          ]
        }
      ]
    }
  ]
}