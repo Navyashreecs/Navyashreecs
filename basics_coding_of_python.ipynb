{
  "nbformat": 4,
  "nbformat_minor": 0,
  "metadata": {
    "colab": {
      "name": "internship.ipynb",
      "provenance": [],
      "collapsed_sections": [],
      "authorship_tag": "ABX9TyOxXJFRyb0np3+QP8smeToE",
      "include_colab_link": true
    },
    "kernelspec": {
      "name": "python3",
      "display_name": "Python 3"
    },
    "language_info": {
      "name": "python"
    }
  },
  "cells": [
    {
      "cell_type": "markdown",
      "metadata": {
        "id": "view-in-github",
        "colab_type": "text"
      },
      "source": [
        "<a href=\"https://colab.research.google.com/github/Navyashreecs/Navyashreecs/blob/main/basics_coding_of_python.ipynb\" target=\"_parent\"><img src=\"https://colab.research.google.com/assets/colab-badge.svg\" alt=\"Open In Colab\"/></a>"
      ]
    },
    {
      "cell_type": "code",
      "metadata": {
        "colab": {
          "base_uri": "https://localhost:8080/"
        },
        "id": "zEWOZGj927bI",
        "outputId": "f2858294-8254-46ca-a479-f2933a4e7ec3"
      },
      "source": [
        "x=\"tushar\"\n",
        "print(type(x))"
      ],
      "execution_count": 1,
      "outputs": [
        {
          "output_type": "stream",
          "name": "stdout",
          "text": [
            "<class 'str'>\n"
          ]
        }
      ]
    },
    {
      "cell_type": "code",
      "metadata": {
        "colab": {
          "base_uri": "https://localhost:8080/"
        },
        "id": "wbLvg7R73sRc",
        "outputId": "45bfcfbd-9b49-4b03-d0d2-23c81a7f7cb6"
      },
      "source": [
        "x=10\n",
        "y=5\n",
        "print(x*y)\n",
        "print(x%y)\n",
        "print(x+y)\n",
        "print(x-y)\n",
        "print(x/y)\n",
        "print(x**y)"
      ],
      "execution_count": null,
      "outputs": [
        {
          "output_type": "stream",
          "text": [
            "50\n",
            "0\n",
            "15\n",
            "5\n",
            "2.0\n",
            "100000\n"
          ],
          "name": "stdout"
        }
      ]
    },
    {
      "cell_type": "code",
      "metadata": {
        "colab": {
          "base_uri": "https://localhost:8080/"
        },
        "id": "xcipqbry4UkH",
        "outputId": "c81b3968-7134-41c3-8b8b-c06aae627c0e"
      },
      "source": [
        "\"hello\" in \"hello world\"\n",
        "\n"
      ],
      "execution_count": null,
      "outputs": [
        {
          "output_type": "execute_result",
          "data": {
            "text/plain": [
              "True"
            ]
          },
          "metadata": {},
          "execution_count": 9
        }
      ]
    },
    {
      "cell_type": "code",
      "metadata": {
        "colab": {
          "base_uri": "https://localhost:8080/"
        },
        "id": "bOntk8_J5GtY",
        "outputId": "c336f868-cecf-476c-8349-bc3f49fe0794"
      },
      "source": [
        "x=10\n",
        "type(x) is str"
      ],
      "execution_count": null,
      "outputs": [
        {
          "output_type": "execute_result",
          "data": {
            "text/plain": [
              "False"
            ]
          },
          "metadata": {},
          "execution_count": 8
        }
      ]
    },
    {
      "cell_type": "code",
      "metadata": {
        "colab": {
          "base_uri": "https://localhost:8080/"
        },
        "id": "yN0zj0Vw5uJb",
        "outputId": "fea3342c-3209-40e5-d60e-c7ea874c19a1"
      },
      "source": [
        "y=5.67\n",
        "type(y) is float"
      ],
      "execution_count": null,
      "outputs": [
        {
          "output_type": "execute_result",
          "data": {
            "text/plain": [
              "True"
            ]
          },
          "metadata": {},
          "execution_count": 10
        }
      ]
    },
    {
      "cell_type": "code",
      "metadata": {
        "colab": {
          "base_uri": "https://localhost:8080/"
        },
        "id": "o7wrnf9i6HUJ",
        "outputId": "777c2d94-bff8-4a1a-9137-188d14be3086"
      },
      "source": [
        "#usage of function\n",
        "def add(a,b):\n",
        "   return(a+b)\n",
        "f=add(5,9)\n",
        "print(f)\n"
      ],
      "execution_count": null,
      "outputs": [
        {
          "output_type": "stream",
          "text": [
            "14\n"
          ],
          "name": "stdout"
        }
      ]
    },
    {
      "cell_type": "code",
      "metadata": {
        "colab": {
          "base_uri": "https://localhost:8080/"
        },
        "id": "bJHFHZrm7dA9",
        "outputId": "94871220-095c-4fef-872a-3be0b47390b5"
      },
      "source": [
        "#using the modules in python\n",
        "import math as m\n",
        "a=81\n",
        "x=m.sqrt(a)\n",
        "print(x)"
      ],
      "execution_count": null,
      "outputs": [
        {
          "output_type": "stream",
          "text": [
            "9.0\n"
          ],
          "name": "stdout"
        }
      ]
    },
    {
      "cell_type": "code",
      "metadata": {
        "colab": {
          "base_uri": "https://localhost:8080/"
        },
        "id": "HwM0VCGq9Yds",
        "outputId": "6e8ec9d4-6f34-441a-94c7-69d56a1411bc"
      },
      "source": [
        "#ceil & floor function [Fsum,factorial,pow,sqrt,radians,degrees]\n",
        "#ceil=return the ceiling value of a floating point number\n",
        "#floor=return the floor value of a floating point number\n",
        "print(m.ceil(26.92))\n",
        "print(m.floor(23.11))\n",
        "print(m.fsum([1,2,3,4,5]))\n",
        "print(m.sin(90))\n",
        "print(m.cos(90))\n",
        "print(m.log(10))\n",
        "print(m.pow(2,3))"
      ],
      "execution_count": null,
      "outputs": [
        {
          "output_type": "stream",
          "text": [
            "27\n",
            "23\n",
            "15.0\n",
            "0.8939966636005579\n",
            "-0.4480736161291701\n",
            "2.302585092994046\n",
            "8.0\n"
          ],
          "name": "stdout"
        }
      ]
    },
    {
      "cell_type": "code",
      "metadata": {
        "colab": {
          "base_uri": "https://localhost:8080/"
        },
        "id": "xKx9VfoI_NGP",
        "outputId": "0b14f393-eff4-48e9-c963-3b1a2702ed83"
      },
      "source": [
        "from math import*\n",
        "a=int(input(\"Enter a number\"))\n",
        "x=factorial(a)\n",
        "print(x)"
      ],
      "execution_count": null,
      "outputs": [
        {
          "output_type": "stream",
          "text": [
            "Enter a number3\n",
            "6\n"
          ],
          "name": "stdout"
        }
      ]
    },
    {
      "cell_type": "markdown",
      "metadata": {
        "id": "Dr7febtMBzuU"
      },
      "source": [
        "random[]:use to generate random \n",
        "randint\n",
        "randrange\n",
        "choice\n",
        "shuffle"
      ]
    },
    {
      "cell_type": "code",
      "metadata": {
        "colab": {
          "base_uri": "https://localhost:8080/"
        },
        "id": "LNIpW4FM-5gh",
        "outputId": "c37918ba-601a-4905-af93-5af7a9c9fcee"
      },
      "source": [
        "import random as r\n",
        "x=r.random()\n",
        "x"
      ],
      "execution_count": null,
      "outputs": [
        {
          "output_type": "execute_result",
          "data": {
            "text/plain": [
              "0.4550215509907305"
            ]
          },
          "metadata": {},
          "execution_count": 39
        }
      ]
    },
    {
      "cell_type": "code",
      "metadata": {
        "colab": {
          "base_uri": "https://localhost:8080/"
        },
        "id": "3morR9oFCbPg",
        "outputId": "642b7499-9877-4def-e4b0-c722eaa63898"
      },
      "source": [
        "x=r.randint(1,9)\n",
        "x"
      ],
      "execution_count": null,
      "outputs": [
        {
          "output_type": "execute_result",
          "data": {
            "text/plain": [
              "5"
            ]
          },
          "metadata": {},
          "execution_count": 40
        }
      ]
    },
    {
      "cell_type": "code",
      "metadata": {
        "colab": {
          "base_uri": "https://localhost:8080/"
        },
        "id": "Wd80F1S8CkcZ",
        "outputId": "0126541a-1582-407c-dc76-44cf6e765cf6"
      },
      "source": [
        "y=r.randrange(1,20,5)\n",
        "y"
      ],
      "execution_count": null,
      "outputs": [
        {
          "output_type": "execute_result",
          "data": {
            "text/plain": [
              "11"
            ]
          },
          "metadata": {},
          "execution_count": 41
        }
      ]
    },
    {
      "cell_type": "code",
      "metadata": {
        "colab": {
          "base_uri": "https://localhost:8080/"
        },
        "id": "2cTwUKxODE2E",
        "outputId": "939efc07-9b2d-4b4c-871a-18d63cf844bd"
      },
      "source": [
        "i=[1,2,3,4,5]\n",
        "z=r.choice(i)\n",
        "z"
      ],
      "execution_count": null,
      "outputs": [
        {
          "output_type": "execute_result",
          "data": {
            "text/plain": [
              "4"
            ]
          },
          "metadata": {},
          "execution_count": 44
        }
      ]
    },
    {
      "cell_type": "code",
      "metadata": {
        "colab": {
          "base_uri": "https://localhost:8080/"
        },
        "id": "AA1-6FxeDf2h",
        "outputId": "a177745d-0f9f-4dab-c9e6-7b6605e93d78"
      },
      "source": [
        "i=[\"s\",\"b\",\"h\",\"i\"]\n",
        "r.shuffle(i)\n",
        "i"
      ],
      "execution_count": null,
      "outputs": [
        {
          "output_type": "execute_result",
          "data": {
            "text/plain": [
              "['h', 'i', 'b', 's']"
            ]
          },
          "metadata": {},
          "execution_count": 56
        }
      ]
    },
    {
      "cell_type": "code",
      "metadata": {
        "colab": {
          "base_uri": "https://localhost:8080/"
        },
        "id": "6JCJBeXCHH-N",
        "outputId": "e1a35e62-34b8-4159-bc63-477ca2beefc3"
      },
      "source": [
        "age=int(input(\"enter your age :\"))\n",
        "if(age>=18 and age<60):\n",
        "  print(\"adult\")\n",
        "elif(age>=60):\n",
        "  print(\"sc\")\n",
        "else:\n",
        "  print(\"child\")\n"
      ],
      "execution_count": null,
      "outputs": [
        {
          "output_type": "stream",
          "text": [
            "enter your age :67\n",
            "sc\n"
          ],
          "name": "stdout"
        }
      ]
    },
    {
      "cell_type": "code",
      "metadata": {
        "colab": {
          "base_uri": "https://localhost:8080/"
        },
        "id": "XjXgyyMBMWd8",
        "outputId": "d86ac86e-ea7a-48c8-f8c6-03ff5a2a0099"
      },
      "source": [
        "for tushar in 'contriver':\n",
        "  print(tushar+\"abc\")"
      ],
      "execution_count": null,
      "outputs": [
        {
          "output_type": "stream",
          "text": [
            "cabc\n",
            "oabc\n",
            "nabc\n",
            "tabc\n",
            "rabc\n",
            "iabc\n",
            "vabc\n",
            "eabc\n",
            "rabc\n"
          ],
          "name": "stdout"
        }
      ]
    },
    {
      "cell_type": "code",
      "metadata": {
        "colab": {
          "base_uri": "https://localhost:8080/"
        },
        "id": "dj__TnmPM7di",
        "outputId": "d9d445e4-effa-460e-aa3b-9d57a28b051e"
      },
      "source": [
        "#range (star,stop,step[incerment /decrement])\n",
        "for i in range(5,15,3):\n",
        "  print(i)"
      ],
      "execution_count": null,
      "outputs": [
        {
          "output_type": "stream",
          "text": [
            "5\n",
            "8\n",
            "11\n",
            "14\n"
          ],
          "name": "stdout"
        }
      ]
    },
    {
      "cell_type": "code",
      "metadata": {
        "colab": {
          "base_uri": "https://localhost:8080/"
        },
        "id": "bptYQlXHNpmE",
        "outputId": "35e91d26-4585-4e7e-c803-6cbb86892237"
      },
      "source": [
        "num=90\n",
        "for i in range(1,11,2):\n",
        "  print(num,\"*\",i,\"=\",num*i)"
      ],
      "execution_count": null,
      "outputs": [
        {
          "output_type": "stream",
          "text": [
            "90 * 1 = 90\n",
            "90 * 3 = 270\n",
            "90 * 5 = 450\n",
            "90 * 7 = 630\n",
            "90 * 9 = 810\n"
          ],
          "name": "stdout"
        }
      ]
    },
    {
      "cell_type": "code",
      "metadata": {
        "id": "DdB5RwUMRJb4",
        "colab": {
          "base_uri": "https://localhost:8080/"
        },
        "outputId": "9f9910e8-12d7-44fc-b63a-6873a43f555a"
      },
      "source": [
        "point=int(input(\"enter the points earned\"))\n",
        "if(point>100):\n",
        "  print(\"Advanced\")\n",
        "elif(point>70):\n",
        "    print(\"Proficient\")\n",
        "elif(point>30):\n",
        "      print(\"Intermediate\")\n",
        "else:\n",
        "      print(\"Beginner\")"
      ],
      "execution_count": null,
      "outputs": [
        {
          "output_type": "stream",
          "text": [
            "enter the points earned70\n",
            "Intermediate\n"
          ],
          "name": "stdout"
        }
      ]
    },
    {
      "cell_type": "code",
      "metadata": {
        "colab": {
          "base_uri": "https://localhost:8080/"
        },
        "id": "brsTQG_EZgS2",
        "outputId": "921ee272-cdee-4631-e485-acab2e6b0d59"
      },
      "source": [
        "A=int(input(\"Enter first number\"))\n",
        "B=int(input(\"Enter second number\"))\n",
        "C=int(input(\"Enter third number\"))\n",
        "if(A>B and A>C):\n",
        "  print(\"largest=\",A)\n",
        "elif(B>A and B>C):\n",
        "    print(\"largest=\",B)\n",
        "elif(C>A and C>B):\n",
        "      print(\"largest=\",C)"
      ],
      "execution_count": null,
      "outputs": [
        {
          "output_type": "stream",
          "text": [
            "Enter first number5\n",
            "Enter second number4\n",
            "Enter third number1\n",
            "largest= 5\n"
          ],
          "name": "stdout"
        }
      ]
    },
    {
      "cell_type": "code",
      "metadata": {
        "colab": {
          "base_uri": "https://localhost:8080/"
        },
        "id": "ebdDJcbnbpn9",
        "outputId": "3994c190-01cb-4596-aa09-21910c93b0b6"
      },
      "source": [
        "Cheld=int(input(\"Enter number of classes held : \"))\n",
        "Aheld=int(input(\"Enter number of classes attended : \"))\n",
        "per=(Aheld/Cheld)*100\n",
        "if(per>75):\n",
        "  Eligible=per\n",
        "  print(\"You are Eligible to attend class,your attendencce is\",Eligible);\n",
        "else:\n",
        "  print(\"You are not Eligible to attend class,your attendence is\",per)"
      ],
      "execution_count": null,
      "outputs": [
        {
          "output_type": "stream",
          "text": [
            "Enter number of classes held : 269\n",
            "Enter number of classes attended : 12\n",
            "You are not Eligible to attend class,your attendence is 4.4609665427509295\n"
          ],
          "name": "stdout"
        }
      ]
    },
    {
      "cell_type": "markdown",
      "metadata": {
        "id": "VqmgEk1e97B9"
      },
      "source": [
        "day2 in python"
      ]
    },
    {
      "cell_type": "code",
      "metadata": {
        "colab": {
          "base_uri": "https://localhost:8080/"
        },
        "id": "RUE6t2sC9zTY",
        "outputId": "32069e23-8270-4be8-ab95-f6be08d37037"
      },
      "source": [
        "#string\n",
        "print(\"Hello\")\n",
        "print('Hello')\n",
        "a='Hello'\n",
        "print(a[1])\n",
        "for i in a :\n",
        "  print(i)"
      ],
      "execution_count": null,
      "outputs": [
        {
          "output_type": "stream",
          "text": [
            "Hello\n",
            "Hello\n",
            "e\n",
            "H\n",
            "e\n",
            "l\n",
            "l\n",
            "o\n"
          ],
          "name": "stdout"
        }
      ]
    },
    {
      "cell_type": "code",
      "metadata": {
        "colab": {
          "base_uri": "https://localhost:8080/"
        },
        "id": "Ci-9XpPpBeGx",
        "outputId": "528c3cb2-5bcc-40f9-a5c7-3ad9dfc61310"
      },
      "source": [
        "a='abcdefg'\n",
        "b=a[0:7:2]\n",
        "print(b)"
      ],
      "execution_count": null,
      "outputs": [
        {
          "output_type": "stream",
          "text": [
            "aceg\n"
          ],
          "name": "stdout"
        }
      ]
    },
    {
      "cell_type": "code",
      "metadata": {
        "colab": {
          "base_uri": "https://localhost:8080/"
        },
        "id": "gVZfejZpB9yx",
        "outputId": "ebd99ea8-52de-49d8-893a-4c184a2833c0"
      },
      "source": [
        "a='Once upon a time,there was a Tushar'\n",
        "#'Oep'\n",
        "b=a[0:8:7]\n",
        "print(b)"
      ],
      "execution_count": null,
      "outputs": [
        {
          "output_type": "stream",
          "text": [
            "Oo\n"
          ],
          "name": "stdout"
        }
      ]
    },
    {
      "cell_type": "code",
      "metadata": {
        "colab": {
          "base_uri": "https://localhost:8080/"
        },
        "id": "xlAb5yZ4D9bU",
        "outputId": "8d7c43ed-a1e7-4e5a-eb4e-6b828cb325e3"
      },
      "source": [
        "txt=\"hello tushar , welcome to contriver\"\n",
        "x=txt.index(\"to\")\n",
        "print(x)\n",
        "print(txt.upper())\n",
        "print(txt.startswith('hello'))\n",
        "print(txt.endswith(\"hello\"))\n",
        "print(txt.split(\" \"))"
      ],
      "execution_count": null,
      "outputs": [
        {
          "output_type": "stream",
          "text": [
            "23\n",
            "HELLO TUSHAR , WELCOME TO CONTRIVER\n",
            "True\n",
            "False\n",
            "['hello', 'tushar', ',', 'welcome', 'to', 'contriver']\n"
          ],
          "name": "stdout"
        }
      ]
    },
    {
      "cell_type": "code",
      "metadata": {
        "colab": {
          "base_uri": "https://localhost:8080/"
        },
        "id": "vElAP7l_G48i",
        "outputId": "a4687fd9-107a-42a8-eaa0-3eace99c9451"
      },
      "source": [
        "#without using len()\n",
        "a=\"refrigerator\"\n",
        "count=0\n",
        "for i in a:\n",
        "  count+=1\n",
        "print(count)\n"
      ],
      "execution_count": null,
      "outputs": [
        {
          "output_type": "stream",
          "text": [
            "12\n"
          ],
          "name": "stdout"
        }
      ]
    },
    {
      "cell_type": "code",
      "metadata": {
        "colab": {
          "base_uri": "https://localhost:8080/"
        },
        "id": "2QIy1cn3ITuT",
        "outputId": "0ef5ed26-4a6b-4a20-fe32-2257f0b3a9f8"
      },
      "source": [
        "#list [len()]\n",
        "l=['abg','bgg','tg']\n",
        "print(len(l))"
      ],
      "execution_count": null,
      "outputs": [
        {
          "output_type": "stream",
          "text": [
            "3\n"
          ],
          "name": "stdout"
        }
      ]
    },
    {
      "cell_type": "code",
      "metadata": {
        "colab": {
          "base_uri": "https://localhost:8080/"
        },
        "id": "6FHAw1N6Jo84",
        "outputId": "19dda2a7-6acc-41ca-a80b-973550d7f449"
      },
      "source": [
        "l.index('abg')"
      ],
      "execution_count": null,
      "outputs": [
        {
          "output_type": "execute_result",
          "data": {
            "text/plain": [
              "0"
            ]
          },
          "metadata": {},
          "execution_count": 41
        }
      ]
    },
    {
      "cell_type": "code",
      "metadata": {
        "colab": {
          "base_uri": "https://localhost:8080/"
        },
        "id": "2ni5w494Jy6p",
        "outputId": "504334e9-34c0-466a-cf63-c1e59408da81"
      },
      "source": [
        "a=[1,2,3,4]\n",
        "a.append('dfg')\n",
        "print(a)\n",
        "print(a.count(1))\n",
        "a.remove(1)\n",
        "print(a)\n",
        "a.pop(2)\n",
        "print(a)"
      ],
      "execution_count": null,
      "outputs": [
        {
          "output_type": "stream",
          "text": [
            "[1, 2, 3, 4, 'dfg']\n",
            "1\n",
            "[2, 3, 4, 'dfg']\n",
            "[2, 3, 'dfg']\n"
          ],
          "name": "stdout"
        }
      ]
    },
    {
      "cell_type": "code",
      "metadata": {
        "colab": {
          "base_uri": "https://localhost:8080/"
        },
        "id": "nLS5gDGyNaak",
        "outputId": "46e0e34e-f23d-4d48-b676-367b4ffc9d00"
      },
      "source": [
        "fruit=[\"apple\",\"cherry\",\"strawberry\"]\n",
        "fruit.append('0')\n",
        "print(fruit)\n",
        "fruit.insert(3,\"chickoo\")\n",
        "print(fruit)"
      ],
      "execution_count": null,
      "outputs": [
        {
          "output_type": "stream",
          "text": [
            "['apple', 'cherry', 'strawberry', '0']\n",
            "['apple', 'cherry', 'strawberry', 'chickoo', '0']\n"
          ],
          "name": "stdout"
        }
      ]
    },
    {
      "cell_type": "code",
      "metadata": {
        "colab": {
          "base_uri": "https://localhost:8080/"
        },
        "id": "2uj-GtO1N-0M",
        "outputId": "ead36931-543c-4c61-f9b0-18872493f645"
      },
      "source": [
        "a=[10,102,103,5,4,6]\n",
        "a.sort()\n",
        "print(a)\n",
        "a.reverse()\n",
        "print(a)\n",
        "\n",
        "\n"
      ],
      "execution_count": null,
      "outputs": [
        {
          "output_type": "stream",
          "text": [
            "[4, 5, 6, 10, 102, 103]\n",
            "[103, 102, 10, 6, 5, 4]\n"
          ],
          "name": "stdout"
        }
      ]
    },
    {
      "cell_type": "code",
      "metadata": {
        "colab": {
          "base_uri": "https://localhost:8080/"
        },
        "id": "KM_CO7uMO8ki",
        "outputId": "dc9728ed-4e78-4284-8e09-74743575a0aa"
      },
      "source": [
        "this_tuple=(\"a\",\"b\",\"c\",\"d\",\"e\")\n",
        "print(len(this_tuple))\n",
        "print(this_tuple[0])\n",
        "print(max(this_tuple))\n",
        "print(min(this_tuple))\n",
        "go=(1,2,3,4)\n",
        "print(sum(go))"
      ],
      "execution_count": null,
      "outputs": [
        {
          "output_type": "stream",
          "text": [
            "5\n",
            "a\n",
            "e\n",
            "a\n",
            "10\n"
          ],
          "name": "stdout"
        }
      ]
    },
    {
      "cell_type": "code",
      "metadata": {
        "colab": {
          "base_uri": "https://localhost:8080/"
        },
        "id": "fUlSKDsRRRKv",
        "outputId": "48652703-e9d6-4619-bf06-3056b80fed36"
      },
      "source": [
        "t=(\"a\",\"b\",\"c\")\n",
        "y=list(t)\n",
        "y.append(\"orange\")\n",
        "print(y)\n",
        "z=tuple(y)\n",
        "print(z)"
      ],
      "execution_count": null,
      "outputs": [
        {
          "output_type": "stream",
          "text": [
            "['a', 'b', 'c', 'orange']\n",
            "('a', 'b', 'c', 'orange')\n"
          ],
          "name": "stdout"
        }
      ]
    },
    {
      "cell_type": "code",
      "metadata": {
        "colab": {
          "base_uri": "https://localhost:8080/"
        },
        "id": "32C1HquiSEjh",
        "outputId": "a2d7c16d-105c-4dea-cfd1-e5fbc23385bd"
      },
      "source": [
        "my_set={1,2,3,4,5,6}\n",
        "print(my_set)"
      ],
      "execution_count": null,
      "outputs": [
        {
          "output_type": "stream",
          "text": [
            "{1, 2, 3, 4, 5, 6}\n"
          ],
          "name": "stdout"
        }
      ]
    },
    {
      "cell_type": "code",
      "metadata": {
        "colab": {
          "base_uri": "https://localhost:8080/"
        },
        "id": "shkkv3UDSWfX",
        "outputId": "795e3f4f-c45a-45b2-a5e2-1961a75b0ea6"
      },
      "source": [
        "my_set1={1,2,3}\n",
        "my_set2={4,5,6}\n",
        "my_set1.add(\"orange\")\n",
        "my_set2.update(my_set1)\n",
        "print(my_set1)\n",
        "my_set1=my_set2.union(my_set1)\n",
        "print(my_set1)\n",
        "\n"
      ],
      "execution_count": null,
      "outputs": [
        {
          "output_type": "stream",
          "text": [
            "{1, 2, 3, 'orange'}\n",
            "{1, 2, 3, 4, 5, 6, 'orange'}\n"
          ],
          "name": "stdout"
        }
      ]
    },
    {
      "cell_type": "code",
      "metadata": {
        "colab": {
          "base_uri": "https://localhost:8080/"
        },
        "id": "Gc0FdigrUcqH",
        "outputId": "85d4f264-f180-46f9-cc96-f381eb3d18fb"
      },
      "source": [
        "c={34,35,36}\n",
        "d={56,57,58}\n",
        "c=d.union(c)\n",
        "print(c)"
      ],
      "execution_count": null,
      "outputs": [
        {
          "output_type": "stream",
          "text": [
            "{34, 35, 36, 56, 57, 58}\n"
          ],
          "name": "stdout"
        }
      ]
    },
    {
      "cell_type": "markdown",
      "metadata": {
        "id": "AZ8lQ2PmV0wn"
      },
      "source": [
        ""
      ]
    },
    {
      "cell_type": "code",
      "metadata": {
        "id": "Ii-2_1jjVl_6"
      },
      "source": [
        ""
      ],
      "execution_count": null,
      "outputs": []
    },
    {
      "cell_type": "markdown",
      "metadata": {
        "id": "KqN88wWRVnQ9"
      },
      "source": [
        "swap 2 tuples\n",
        "t1=(11,22)\n",
        "t2=(99,88)\n"
      ]
    },
    {
      "cell_type": "code",
      "metadata": {
        "colab": {
          "base_uri": "https://localhost:8080/"
        },
        "id": "uwdkHMyLOW41",
        "outputId": "1e3cede8-9370-44c8-bbf0-28cbc8456e03"
      },
      "source": [
        "tuple1=(11,22)\n",
        "tuple2=(99,88)\n",
        "tuple1,tuple2=tuple2,tuple1\n",
        "print(tuple1)\n",
        "print(tuple2)"
      ],
      "execution_count": null,
      "outputs": [
        {
          "output_type": "stream",
          "text": [
            "(99, 88)\n",
            "(11, 22)\n"
          ],
          "name": "stdout"
        }
      ]
    },
    {
      "cell_type": "markdown",
      "metadata": {
        "id": "Se11fj9mWhNz"
      },
      "source": [
        "Given a python list,find value 20 if in the list and if present,replace it with 200"
      ]
    },
    {
      "cell_type": "code",
      "metadata": {
        "colab": {
          "base_uri": "https://localhost:8080/"
        },
        "id": "bYHuygPhWxCy",
        "outputId": "b6f63eef-3373-469a-e089-1eec08b03454"
      },
      "source": [
        "g=[1,20,3,4,5,6,7,8,9]\n",
        "for i in g:\n",
        "  if 20 in g:\n",
        "    g[i]=200\n",
        "print(g)\n",
        "\n"
      ],
      "execution_count": null,
      "outputs": [
        {
          "output_type": "stream",
          "text": [
            "[1, 200, 3, 4, 5, 6, 7, 8, 9]\n"
          ],
          "name": "stdout"
        }
      ]
    },
    {
      "cell_type": "code",
      "metadata": {
        "colab": {
          "base_uri": "https://localhost:8080/"
        },
        "id": "y4VNoVA0LFqp",
        "outputId": "20780c2d-a18d-4a0c-95a3-5a1c6f603a36"
      },
      "source": [
        "def fullname(first,last):\n",
        "  full=fn+ln\n",
        "  return full\n",
        "fn=input(\"Enter your first name\")\n",
        "ln=input(\"Enter your last name\")\n",
        "a=fullname(fn,ln)\n",
        "print(a)"
      ],
      "execution_count": null,
      "outputs": [
        {
          "output_type": "stream",
          "text": [
            "Enter your first nameTushar\n",
            "Enter your last namePunjabi\n",
            "TusharPunjabi\n"
          ],
          "name": "stdout"
        }
      ]
    },
    {
      "cell_type": "code",
      "metadata": {
        "colab": {
          "base_uri": "https://localhost:8080/"
        },
        "id": "JbFUJAKWMXlM",
        "outputId": "1aa8dc88-ad17-409f-b8bc-ff2db5f3fb41"
      },
      "source": [
        "\n",
        "def factorial(n):\n",
        "  if n==1:\n",
        "     return 1\n",
        "  else:\n",
        "   return n*factorial(n-1)\n",
        "factorial(9)\n",
        "  "
      ],
      "execution_count": null,
      "outputs": [
        {
          "output_type": "execute_result",
          "data": {
            "text/plain": [
              "362880"
            ]
          },
          "metadata": {},
          "execution_count": 19
        }
      ]
    },
    {
      "cell_type": "code",
      "metadata": {
        "colab": {
          "base_uri": "https://localhost:8080/"
        },
        "id": "e37rFT7vPv72",
        "outputId": "4342ff31-8eb7-473c-dc5c-4cf095dd5e62"
      },
      "source": [
        "fn='tushar'\n",
        "ln=' punjabi'\n",
        "fullname=lambda fn,ln:fn+ln\n",
        "print(fullname(fn,ln))"
      ],
      "execution_count": null,
      "outputs": [
        {
          "output_type": "stream",
          "text": [
            "tushar punjabi\n"
          ],
          "name": "stdout"
        }
      ]
    },
    {
      "cell_type": "code",
      "metadata": {
        "colab": {
          "base_uri": "https://localhost:8080/"
        },
        "id": "PlWCXTL6Q4Dq",
        "outputId": "5d7ddb12-b062-491b-ef77-7a5c2d480dd8"
      },
      "source": [
        "Stationary={'pens':4,'pencil':2,'book':3,'dictionary':10}\n",
        "Stationary['dictionary']\n",
        "x=Stationary.copy()\n",
        "print(x)\n",
        "y=Stationary.get('book')\n",
        "print(y)\n",
        "print(Stationary.items())\n",
        "print(Stationary.keys())\n",
        "for i,j in Stationary.items():\n",
        "  print(i,j)\n",
        "print(Stationary.values())\n",
        "Stationary.popitem()\n",
        "print(Stationary)\n",
        "Stationary.clear()\n"
      ],
      "execution_count": null,
      "outputs": [
        {
          "output_type": "stream",
          "text": [
            "{'pens': 4, 'pencil': 2, 'book': 3, 'dictionary': 10}\n",
            "3\n",
            "dict_items([('pens', 4), ('pencil', 2), ('book', 3), ('dictionary', 10)])\n",
            "dict_keys(['pens', 'pencil', 'book', 'dictionary'])\n",
            "pens 4\n",
            "pencil 2\n",
            "book 3\n",
            "dictionary 10\n",
            "dict_values([4, 2, 3, 10])\n",
            "{'pens': 4, 'pencil': 2, 'book': 3}\n"
          ],
          "name": "stdout"
        }
      ]
    }
  ]
}